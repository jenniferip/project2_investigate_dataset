{
 "cells": [
  {
   "cell_type": "markdown",
   "metadata": {},
   "source": [
    "# Investigation of the Titanic Data by Jennifer Penuelas"
   ]
  },
  {
   "cell_type": "markdown",
   "metadata": {},
   "source": [
    "The dataset this analysis is studying is that of the Titanic passengers, provided and described from Kaggle. The variables describing each passenger include:\n",
    "* PassengerId \n",
    "* Survived - where a value of 0 means no and a value of 1 means yes\n",
    "* Pclass - values are the numbers one two and three denoting upper, middle, and lower class respectively\n",
    "* Name\n",
    "* Sex\n",
    "* Age - those below a year old were estimated by a float\n",
    "* SibSp - how many siblings and/or spouses the passenger had onboard (excludes mistresses and fiancés)\n",
    "* Parch - how many parents and/or children the passenger had onboard (includes step-siblings)\n",
    "* Ticket\n",
    "* Fare\n",
    "* Cabin\n",
    "* Embarked - values are C, Q, and S for Cherbourg, Queenstown, and Southampton respectively\n",
    "\n",
    "This analysis compares the differences in family, survival, location, and fare between different classes in an attempt to answer the following questions: \n",
    "> Who was most likely to survive the Titanic shipwreck? Which factors seemed to contribute most to their survival?\n",
    "> How large were family sizes, ie. how many slibings, spouses, children, and parents did different passengers have."
   ]
  },
  {
   "cell_type": "markdown",
   "metadata": {},
   "source": [
    "## Extracting the Data "
   ]
  },
  {
   "cell_type": "code",
   "execution_count": 1,
   "metadata": {
    "collapsed": true
   },
   "outputs": [],
   "source": [
    "import unicodecsv\n",
    "import numpy as np\n",
    "import pandas as pd\n",
    "import matplotlib\n",
    "import matplotlib.pyplot as plt\n",
    "import seaborn as sns\n",
    "%matplotlib inline"
   ]
  },
  {
   "cell_type": "code",
   "execution_count": 2,
   "metadata": {},
   "outputs": [
    {
     "data": {
      "text/html": [
       "<div>\n",
       "<style>\n",
       "    .dataframe thead tr:only-child th {\n",
       "        text-align: right;\n",
       "    }\n",
       "\n",
       "    .dataframe thead th {\n",
       "        text-align: left;\n",
       "    }\n",
       "\n",
       "    .dataframe tbody tr th {\n",
       "        vertical-align: top;\n",
       "    }\n",
       "</style>\n",
       "<table border=\"1\" class=\"dataframe\">\n",
       "  <thead>\n",
       "    <tr style=\"text-align: right;\">\n",
       "      <th></th>\n",
       "      <th>PassengerId</th>\n",
       "      <th>Survived</th>\n",
       "      <th>Pclass</th>\n",
       "      <th>Name</th>\n",
       "      <th>Sex</th>\n",
       "      <th>Age</th>\n",
       "      <th>SibSp</th>\n",
       "      <th>Parch</th>\n",
       "      <th>Ticket</th>\n",
       "      <th>Fare</th>\n",
       "      <th>Cabin</th>\n",
       "      <th>Embarked</th>\n",
       "    </tr>\n",
       "  </thead>\n",
       "  <tbody>\n",
       "    <tr>\n",
       "      <th>0</th>\n",
       "      <td>1</td>\n",
       "      <td>0</td>\n",
       "      <td>3</td>\n",
       "      <td>Braund, Mr. Owen Harris</td>\n",
       "      <td>male</td>\n",
       "      <td>22.0</td>\n",
       "      <td>1</td>\n",
       "      <td>0</td>\n",
       "      <td>A/5 21171</td>\n",
       "      <td>7.2500</td>\n",
       "      <td>missing00</td>\n",
       "      <td>S</td>\n",
       "    </tr>\n",
       "    <tr>\n",
       "      <th>1</th>\n",
       "      <td>2</td>\n",
       "      <td>1</td>\n",
       "      <td>1</td>\n",
       "      <td>Cumings, Mrs. John Bradley (Florence Briggs Th...</td>\n",
       "      <td>female</td>\n",
       "      <td>38.0</td>\n",
       "      <td>1</td>\n",
       "      <td>0</td>\n",
       "      <td>PC 17599</td>\n",
       "      <td>71.2833</td>\n",
       "      <td>C85</td>\n",
       "      <td>C</td>\n",
       "    </tr>\n",
       "    <tr>\n",
       "      <th>2</th>\n",
       "      <td>3</td>\n",
       "      <td>1</td>\n",
       "      <td>3</td>\n",
       "      <td>Heikkinen, Miss. Laina</td>\n",
       "      <td>female</td>\n",
       "      <td>26.0</td>\n",
       "      <td>0</td>\n",
       "      <td>0</td>\n",
       "      <td>STON/O2. 3101282</td>\n",
       "      <td>7.9250</td>\n",
       "      <td>missing00</td>\n",
       "      <td>S</td>\n",
       "    </tr>\n",
       "    <tr>\n",
       "      <th>3</th>\n",
       "      <td>4</td>\n",
       "      <td>1</td>\n",
       "      <td>1</td>\n",
       "      <td>Futrelle, Mrs. Jacques Heath (Lily May Peel)</td>\n",
       "      <td>female</td>\n",
       "      <td>35.0</td>\n",
       "      <td>1</td>\n",
       "      <td>0</td>\n",
       "      <td>113803</td>\n",
       "      <td>53.1000</td>\n",
       "      <td>C123</td>\n",
       "      <td>S</td>\n",
       "    </tr>\n",
       "    <tr>\n",
       "      <th>4</th>\n",
       "      <td>5</td>\n",
       "      <td>0</td>\n",
       "      <td>3</td>\n",
       "      <td>Allen, Mr. William Henry</td>\n",
       "      <td>male</td>\n",
       "      <td>35.0</td>\n",
       "      <td>0</td>\n",
       "      <td>0</td>\n",
       "      <td>373450</td>\n",
       "      <td>8.0500</td>\n",
       "      <td>missing00</td>\n",
       "      <td>S</td>\n",
       "    </tr>\n",
       "  </tbody>\n",
       "</table>\n",
       "</div>"
      ],
      "text/plain": [
       "   PassengerId  Survived  Pclass  \\\n",
       "0            1         0       3   \n",
       "1            2         1       1   \n",
       "2            3         1       3   \n",
       "3            4         1       1   \n",
       "4            5         0       3   \n",
       "\n",
       "                                                Name     Sex   Age  SibSp  \\\n",
       "0                            Braund, Mr. Owen Harris    male  22.0      1   \n",
       "1  Cumings, Mrs. John Bradley (Florence Briggs Th...  female  38.0      1   \n",
       "2                             Heikkinen, Miss. Laina  female  26.0      0   \n",
       "3       Futrelle, Mrs. Jacques Heath (Lily May Peel)  female  35.0      1   \n",
       "4                           Allen, Mr. William Henry    male  35.0      0   \n",
       "\n",
       "   Parch            Ticket     Fare      Cabin Embarked  \n",
       "0      0         A/5 21171   7.2500  missing00        S  \n",
       "1      0          PC 17599  71.2833        C85        C  \n",
       "2      0  STON/O2. 3101282   7.9250  missing00        S  \n",
       "3      0            113803  53.1000       C123        S  \n",
       "4      0            373450   8.0500  missing00        S  "
      ]
     },
     "execution_count": 2,
     "metadata": {},
     "output_type": "execute_result"
    }
   ],
   "source": [
    "#The following block of code takes the titanic-data.csv file and saves all information in a pandas dataframe then \n",
    "#it fills the missing values contained in the Age and Cabin columns of the data frame and fills the NaNs with -0.0 \n",
    "#and the string missing00 in each column, respectively. Then it outputs the first 5 rows of the dataframe. \n",
    "titanic_data = pd.read_csv('titanic-data.csv')\n",
    "titanic_data['Age'].fillna(-0.0, inplace=True)\n",
    "titanic_data['Cabin'].fillna('missing00', inplace=True)\n",
    "titanic_data[:5]"
   ]
  },
  {
   "cell_type": "markdown",
   "metadata": {},
   "source": [
    "**Note, the original data was altered in the following manner:** \n",
    "* The Sex column had missing values that were changed to be -0.0. The reason behind doing this and not using the average or median of the ages for example was to keep the missing values distinct from the known values and writing 0 as a negative float achieved this in the best way for my purposes. Using average or median are both plausible methods and issues arising from my implementation are addressed when they arise. \n",
    "* The Cabin column also had missing values which I changed simply to address this issue though it is unnecessary since this analysis does not look at or explore data involving the cabin values. The value I changed NaN to was the string missing00 to firstly keep the object the same as all other cabin value objects and to also keep the general cabin value format of letters followed by numbers."
   ]
  },
  {
   "cell_type": "markdown",
   "metadata": {},
   "source": [
    "## Relating Class to Survival"
   ]
  },
  {
   "cell_type": "code",
   "execution_count": 3,
   "metadata": {},
   "outputs": [
    {
     "data": {
      "text/html": [
       "<div>\n",
       "<style>\n",
       "    .dataframe thead tr:only-child th {\n",
       "        text-align: right;\n",
       "    }\n",
       "\n",
       "    .dataframe thead th {\n",
       "        text-align: left;\n",
       "    }\n",
       "\n",
       "    .dataframe tbody tr th {\n",
       "        vertical-align: top;\n",
       "    }\n",
       "</style>\n",
       "<table border=\"1\" class=\"dataframe\">\n",
       "  <thead>\n",
       "    <tr style=\"text-align: right;\">\n",
       "      <th></th>\n",
       "      <th>Pclass</th>\n",
       "      <th>Survived</th>\n",
       "    </tr>\n",
       "  </thead>\n",
       "  <tbody>\n",
       "    <tr>\n",
       "      <th>1</th>\n",
       "      <td>216</td>\n",
       "      <td>136</td>\n",
       "    </tr>\n",
       "    <tr>\n",
       "      <th>2</th>\n",
       "      <td>184</td>\n",
       "      <td>87</td>\n",
       "    </tr>\n",
       "    <tr>\n",
       "      <th>3</th>\n",
       "      <td>491</td>\n",
       "      <td>119</td>\n",
       "    </tr>\n",
       "  </tbody>\n",
       "</table>\n",
       "</div>"
      ],
      "text/plain": [
       "   Pclass  Survived\n",
       "1     216       136\n",
       "2     184        87\n",
       "3     491       119"
      ]
     },
     "execution_count": 3,
     "metadata": {},
     "output_type": "execute_result"
    }
   ],
   "source": [
    "#Save the total number of passengers in each class in total_class_counts and the total number of survivors within\n",
    "#each class in survivors_per_class, then concatenate the two series to create one dataframe in which the indeces \n",
    "#specify the class values, one, two, and three, and the columns are Pclass and Survived in which the values of \n",
    "#tell you the total number of passengers per Pclass and the total number of Survivors per class.\n",
    "total_class_counts = titanic_data['Pclass'].value_counts()\n",
    "survivors_per_class = titanic_data.groupby('Pclass').sum()['Survived']\n",
    "class_and_survival_numbers = pd.concat([total_class_counts, survivors_per_class], axis=1)\n",
    "class_and_survival_numbers"
   ]
  },
  {
   "cell_type": "code",
   "execution_count": 4,
   "metadata": {},
   "outputs": [
    {
     "data": {
      "text/plain": [
       "[<matplotlib.text.Text at 0x1127d8810>,\n",
       " <matplotlib.text.Text at 0x1127cd810>,\n",
       " <matplotlib.text.Text at 0x11276a4d0>]"
      ]
     },
     "execution_count": 4,
     "metadata": {},
     "output_type": "execute_result"
    },
    {
     "data": {
      "image/png": "[encoded data removed]",
      "text/plain": [
       "<matplotlib.figure.Figure at 0x1125fe6d0>"
      ]
     },
     "metadata": {},
     "output_type": "display_data"
    }
   ],
   "source": [
    "#Code to graph the above information and to set the axis names and graph title. \n",
    "class_and_survival_graph = class_and_survival_numbers.plot(kind='bar', figsize=(10, 6), \n",
    "                                title='Comparison of Frequencies of Passengers and Survivals in each Class')\n",
    "class_and_survival_graph.update({'xlabel':'Class', 'ylabel':'Frequency (in number of passengers)'})\n",
    "class_and_survival_graph.set_xticklabels(class_and_survival_graph.get_xmajorticklabels(), rotation=0)"
   ]
  },
  {
   "cell_type": "markdown",
   "metadata": {},
   "source": [
    "The total number of passengers aboard the Titanic was 891, a proportion of 0.55 were lower class passengers, 0.21 were middle class passengers, and 0.24 were upper class passengers. Out of all passengers, there were 342 survivors, this consititutes a proportion of 0.38 surviving passengers. Then out of all of the survivors 0.40 were upper class, 0.25 were middle class, and 0.35 were lower class. This means that out of all upper class passengers 0.63 of them survived, out of all middle class passengers 0.47 survived, and out of lower class passengers 0.24 survived. You can compare the number of survivals per class to the total number of passengers in each class in the graph above. It is clear that the survivals per class is skewed in favor of upper class passengers, as the green bar is closer to the total amount for upper class passengers. This implies that class was correlated with survival, but just how strong is this correlation?  "
   ]
  },
  {
   "cell_type": "markdown",
   "metadata": {},
   "source": [
    "### Pearson's r for Class and Survival"
   ]
  },
  {
   "cell_type": "code",
   "execution_count": 5,
   "metadata": {},
   "outputs": [
    {
     "data": {
      "text/html": [
       "<div>\n",
       "<style>\n",
       "    .dataframe thead tr:only-child th {\n",
       "        text-align: right;\n",
       "    }\n",
       "\n",
       "    .dataframe thead th {\n",
       "        text-align: left;\n",
       "    }\n",
       "\n",
       "    .dataframe tbody tr th {\n",
       "        vertical-align: top;\n",
       "    }\n",
       "</style>\n",
       "<table border=\"1\" class=\"dataframe\">\n",
       "  <thead>\n",
       "    <tr style=\"text-align: right;\">\n",
       "      <th></th>\n",
       "      <th>Survived</th>\n",
       "      <th>Pclass</th>\n",
       "    </tr>\n",
       "  </thead>\n",
       "  <tbody>\n",
       "    <tr>\n",
       "      <th>Survived</th>\n",
       "      <td>1.000000</td>\n",
       "      <td>-0.338481</td>\n",
       "    </tr>\n",
       "    <tr>\n",
       "      <th>Pclass</th>\n",
       "      <td>-0.338481</td>\n",
       "      <td>1.000000</td>\n",
       "    </tr>\n",
       "  </tbody>\n",
       "</table>\n",
       "</div>"
      ],
      "text/plain": [
       "          Survived    Pclass\n",
       "Survived  1.000000 -0.338481\n",
       "Pclass   -0.338481  1.000000"
      ]
     },
     "execution_count": 5,
     "metadata": {},
     "output_type": "execute_result"
    }
   ],
   "source": [
    "#This code filters the whole dataframe into only the Survival and Pclass columns, saving these columns in a variable\n",
    "#called survived_and_pclass which we then use to calculate Pearson's r to quantify the correlation between class and \n",
    "#survival.\n",
    "survived_and_pclass = titanic_data.filter(['Survived', 'Pclass'], axis=1)\n",
    "survived_and_pclass.corr(method='pearson')"
   ]
  },
  {
   "cell_type": "markdown",
   "metadata": {},
   "source": [
    "According to the table above, Pearson's r describing the correlation between survival and class is equal to -0.34. This number seems to be lower than expected compared to the proportions of survivals within each class.  "
   ]
  },
  {
   "cell_type": "markdown",
   "metadata": {},
   "source": [
    "## Pearson's r for more Variables Compared to Survival"
   ]
  },
  {
   "cell_type": "markdown",
   "metadata": {},
   "source": [
    "### Survival and Age"
   ]
  },
  {
   "cell_type": "code",
   "execution_count": 6,
   "metadata": {},
   "outputs": [
    {
     "data": {
      "text/html": [
       "<div>\n",
       "<style>\n",
       "    .dataframe thead tr:only-child th {\n",
       "        text-align: right;\n",
       "    }\n",
       "\n",
       "    .dataframe thead th {\n",
       "        text-align: left;\n",
       "    }\n",
       "\n",
       "    .dataframe tbody tr th {\n",
       "        vertical-align: top;\n",
       "    }\n",
       "</style>\n",
       "<table border=\"1\" class=\"dataframe\">\n",
       "  <thead>\n",
       "    <tr style=\"text-align: right;\">\n",
       "      <th></th>\n",
       "      <th>Survived</th>\n",
       "      <th>Age</th>\n",
       "    </tr>\n",
       "  </thead>\n",
       "  <tbody>\n",
       "    <tr>\n",
       "      <th>Survived</th>\n",
       "      <td>1.000000</td>\n",
       "      <td>0.010539</td>\n",
       "    </tr>\n",
       "    <tr>\n",
       "      <th>Age</th>\n",
       "      <td>0.010539</td>\n",
       "      <td>1.000000</td>\n",
       "    </tr>\n",
       "  </tbody>\n",
       "</table>\n",
       "</div>"
      ],
      "text/plain": [
       "          Survived       Age\n",
       "Survived  1.000000  0.010539\n",
       "Age       0.010539  1.000000"
      ]
     },
     "execution_count": 6,
     "metadata": {},
     "output_type": "execute_result"
    }
   ],
   "source": [
    "#Code filters the original dataframe into the two columns Survived and Age, saving the columns into the variable\n",
    "#survived_and_age, the used to calculate Pearson's r to quantify the correlation between age and survival.\n",
    "survived_and_age = titanic_data.filter(['Survived', 'Age'], axis=1)\n",
    "survived_and_age.corr(method='pearson')"
   ]
  },
  {
   "cell_type": "code",
   "execution_count": 7,
   "metadata": {},
   "outputs": [
    {
     "data": {
      "text/plain": [
       "5     83\n",
       "10     7\n",
       "15    11\n",
       "20    33\n",
       "25    42\n",
       "30    42\n",
       "35    41\n",
       "40    28\n",
       "45    17\n",
       "50    16\n",
       "55    10\n",
       "60     7\n",
       "65     4\n",
       "70     0\n",
       "75     0\n",
       "80     1\n",
       "Name: Survivors of Age Equal to or Less Than the Index Value, dtype: int64"
      ]
     },
     "execution_count": 7,
     "metadata": {},
     "output_type": "execute_result"
    }
   ],
   "source": [
    "#The following code makes a new series called survivors_per_age_range which describes how many survivors there are \n",
    "#within a specific age range, described as being equal to or less than the index value but greater than the previous \n",
    "#index value. This specific series has an age range of 5 years. The purpose of building this Series is to be able to\n",
    "#display the values as a histogram.\n",
    "min_age = survived_and_age['Age'].min()\n",
    "max_age = survived_and_age['Age'].max()\n",
    "num_bins = (max_age - min_age) / 5 #5 being the bin size I want\n",
    "survivors_per_age_range = pd.Series(data=[0, 0, 0, 0, 0, 0, 0, 0, 0, 0, 0, 0, 0, 0, 0, 0], \n",
    "                                    index=[5, 10, 15, 20, 25, 30, 35, 40, 45, 50, 55, 60, 65, 70, 75, 80], \n",
    "                                    name='Survivors of Age Equal to or Less Than the Index Value')\n",
    "for i in range(len(survived_and_age)):\n",
    "    if survived_and_age.loc[i, 'Survived'] == 1:\n",
    "        if survived_and_age.loc[i, 'Age'] <= 5:\n",
    "            survivors_per_age_range[5] += 1\n",
    "        elif survived_and_age.loc[i, 'Age'] <= 10:\n",
    "            survivors_per_age_range[10] += 1\n",
    "        elif survived_and_age.loc[i, 'Age'] <= 15:\n",
    "            survivors_per_age_range[15] += 1\n",
    "        elif survived_and_age.loc[i, 'Age'] <= 20:\n",
    "            survivors_per_age_range[20] += 1\n",
    "        elif survived_and_age.loc[i, 'Age'] <= 25:\n",
    "            survivors_per_age_range[25] += 1\n",
    "        elif survived_and_age.loc[i, 'Age'] <= 30:\n",
    "            survivors_per_age_range[30] += 1\n",
    "        elif survived_and_age.loc[i, 'Age'] <= 35:\n",
    "            survivors_per_age_range[35] += 1\n",
    "        elif survived_and_age.loc[i, 'Age'] <= 40:\n",
    "            survivors_per_age_range[40] += 1\n",
    "        elif survived_and_age.loc[i, 'Age'] <= 45:\n",
    "            survivors_per_age_range[45] += 1\n",
    "        elif survived_and_age.loc[i, 'Age'] <= 50:\n",
    "            survivors_per_age_range[50] += 1\n",
    "        elif survived_and_age.loc[i, 'Age'] <= 55:\n",
    "            survivors_per_age_range[55] += 1\n",
    "        elif survived_and_age.loc[i, 'Age'] <= 60:\n",
    "            survivors_per_age_range[60] += 1\n",
    "        elif survived_and_age.loc[i, 'Age'] <= 65:\n",
    "            survivors_per_age_range[65] += 1\n",
    "        elif survived_and_age.loc[i, 'Age'] <= 70:\n",
    "            survivors_per_age_range[70] += 1\n",
    "        elif survived_and_age.loc[i, 'Age'] <= 75:\n",
    "            survivors_per_age_range[75] += 1\n",
    "        else:\n",
    "            survivors_per_age_range[80] += 1\n",
    "        \n",
    "survivors_per_age_range"
   ]
  },
  {
   "cell_type": "code",
   "execution_count": 8,
   "metadata": {},
   "outputs": [
    {
     "data": {
      "text/plain": [
       "count    16.000000\n",
       "mean     21.375000\n",
       "std      22.422831\n",
       "min       0.000000\n",
       "25%       6.250000\n",
       "50%      13.500000\n",
       "75%      35.000000\n",
       "max      83.000000\n",
       "Name: Survivors of Age Equal to or Less Than the Index Value, dtype: float64"
      ]
     },
     "execution_count": 8,
     "metadata": {},
     "output_type": "execute_result"
    }
   ],
   "source": [
    "survivors_per_age_range.describe()"
   ]
  },
  {
   "cell_type": "code",
   "execution_count": 9,
   "metadata": {},
   "outputs": [
    {
     "data": {
      "text/plain": [
       "<matplotlib.text.Text at 0x115c27c10>"
      ]
     },
     "execution_count": 9,
     "metadata": {},
     "output_type": "execute_result"
    },
    {
     "data": {
      "image/png": "[encoded data removed]",
      "text/plain": [
       "<matplotlib.figure.Figure at 0x1125bb710>"
      ]
     },
     "metadata": {},
     "output_type": "display_data"
    }
   ],
   "source": [
    "#Code to plot the information describing the number of survivors per age range\n",
    "age_plot = survivors_per_age_range.plot(kind='hist', bins=16, figsize=(10, 6), align='left',\n",
    "                                        title='Survivors per Age Range')\n",
    "age_plot.set_xlabel('Age')"
   ]
  },
  {
   "cell_type": "markdown",
   "metadata": {},
   "source": [
    "The above histogram was trying to give a visualization for how many survivors there were for different age ranges to see how age and survival were correlated. As expected from Pearson's r, we do not expect a strong correlation between the two since the value was close to 0. Exclude the column counting the survivors aged 0 thru 5, since this column could be larger than it actually is since unknown age values in the data were changed to be a value of -0.0. From the plot and the output of the series itself, we see that there were more younger survivors than older survivors, with only one survivor over 65 years old. However, out of the younger survivors there is no implication strong enough to say that 20 year olds tended to survive more than 40 year olds, for example.    "
   ]
  },
  {
   "cell_type": "markdown",
   "metadata": {},
   "source": [
    "### Survival and Sex"
   ]
  },
  {
   "cell_type": "code",
   "execution_count": 10,
   "metadata": {},
   "outputs": [
    {
     "data": {
      "text/html": [
       "<div>\n",
       "<style>\n",
       "    .dataframe thead tr:only-child th {\n",
       "        text-align: right;\n",
       "    }\n",
       "\n",
       "    .dataframe thead th {\n",
       "        text-align: left;\n",
       "    }\n",
       "\n",
       "    .dataframe tbody tr th {\n",
       "        vertical-align: top;\n",
       "    }\n",
       "</style>\n",
       "<table border=\"1\" class=\"dataframe\">\n",
       "  <thead>\n",
       "    <tr style=\"text-align: right;\">\n",
       "      <th></th>\n",
       "      <th>Survived</th>\n",
       "    </tr>\n",
       "  </thead>\n",
       "  <tbody>\n",
       "    <tr>\n",
       "      <th>Survived</th>\n",
       "      <td>1.0</td>\n",
       "    </tr>\n",
       "  </tbody>\n",
       "</table>\n",
       "</div>"
      ],
      "text/plain": [
       "          Survived\n",
       "Survived       1.0"
      ]
     },
     "execution_count": 10,
     "metadata": {},
     "output_type": "execute_result"
    }
   ],
   "source": [
    "#The following block of code first saves the Survived and Sex columns from the original dataframe into a variable\n",
    "#named survived_and_sex, this variable is a dataframe object. The purpose of this is to try to calculate Pearson's r \n",
    "#to quantify the correlation between sex and survival. The problem however was that the possible values \n",
    "#for Sex were the string objects male and female, so the corr() function would not properly calculate Pearson's r. \n",
    "#The for loop then serves to go through every entry of the survived_and_sex dataframe and change the value of Sex \n",
    "#to either 0 or 1 representing male or female, respectively.\n",
    "survived_and_sex = titanic_data.filter(['Survived', 'Sex'], axis=1)\n",
    "for i in range(len(survived_and_sex)):\n",
    "    if survived_and_sex.loc[i, 'Sex'] == 'male':\n",
    "        survived_and_sex.set_value(i, 'Sex', 0)\n",
    "    else:\n",
    "        survived_and_sex.set_value(i, 'Sex', 1)\n",
    "survived_and_sex.corr(method='pearson')"
   ]
  },
  {
   "cell_type": "code",
   "execution_count": 11,
   "metadata": {},
   "outputs": [
    {
     "name": "stdout",
     "output_type": "stream",
     "text": [
      "Sex\n",
      "female    233\n",
      "male      109\n",
      "Name: Survived, dtype: int64\n"
     ]
    },
    {
     "data": {
      "text/plain": [
       "[<matplotlib.text.Text at 0x115eb1710>, <matplotlib.text.Text at 0x115ebb610>]"
      ]
     },
     "execution_count": 11,
     "metadata": {},
     "output_type": "execute_result"
    },
    {
     "data": {
      "image/png": "[encoded data removed]",
      "text/plain": [
       "<matplotlib.figure.Figure at 0x115ae4050>"
      ]
     },
     "metadata": {},
     "output_type": "display_data"
    }
   ],
   "source": [
    "#Code to print the number of survivors for each sex and then plot these numbers as a bar graph.\n",
    "print titanic_data.groupby('Sex').sum()['Survived']\n",
    "survivors_per_sex_graph = titanic_data.groupby('Sex').sum()['Survived'].plot(kind='bar',\n",
    "                                                                             title='Frequency of Survivors for each Sex')\n",
    "survivors_per_sex_graph.update({'ylabel':'Frequency (in number of passengers)'})\n",
    "survivors_per_sex_graph.set_xticklabels(survivors_per_sex_graph.get_xmajorticklabels(), rotation=0)"
   ]
  },
  {
   "cell_type": "code",
   "execution_count": 12,
   "metadata": {},
   "outputs": [
    {
     "data": {
      "text/plain": [
       "[<matplotlib.text.Text at 0x115f16310>, <matplotlib.text.Text at 0x112782c90>]"
      ]
     },
     "execution_count": 12,
     "metadata": {},
     "output_type": "execute_result"
    },
    {
     "data": {
      "image/png": "[encoded data removed]",
      "text/plain": [
       "<matplotlib.figure.Figure at 0x115f0c610>"
      ]
     },
     "metadata": {},
     "output_type": "display_data"
    }
   ],
   "source": [
    "#Code to calculate survival rates per sex then code to plot the survival rates in the form of a bar graph and \n",
    "#set the graph and axis titles.\n",
    "survival_rates = titanic_data.groupby('Sex')['Survived'].mean()*100\n",
    "surv_rates_graph = survival_rates.plot.bar()\n",
    "surv_rates_graph.set(title='Survival Rates per Sex', xlabel='Sex', ylabel='Survival Rate in %', ylim=[0, 100])\n",
    "surv_rates_graph.set_xticklabels(surv_rates_graph.get_xmajorticklabels(), rotation=0)"
   ]
  },
  {
   "cell_type": "code",
   "execution_count": 13,
   "metadata": {},
   "outputs": [
    {
     "name": "stdout",
     "output_type": "stream",
     "text": [
      "Sex     female  male\n",
      "Pclass              \n",
      "1           91    45\n",
      "2           70    17\n",
      "3           72    47\n"
     ]
    },
    {
     "data": {
      "text/plain": [
       "[<matplotlib.text.Text at 0x11607cd90>,\n",
       " <matplotlib.text.Text at 0x1160ac090>,\n",
       " <matplotlib.text.Text at 0x1161bd690>]"
      ]
     },
     "execution_count": 13,
     "metadata": {},
     "output_type": "execute_result"
    },
    {
     "data": {
      "image/png": "[encoded data removed]",
      "text/plain": [
       "<matplotlib.figure.Figure at 0x115ce6e50>"
      ]
     },
     "metadata": {},
     "output_type": "display_data"
    }
   ],
   "source": [
    "#Code to count the number of survivors per sex within each class and then plot the values in a bar plot. Also, \n",
    "#includes code to set the graphs aesthetics.\n",
    "survivors_per_sex_per_class = titanic_data.groupby(['Pclass', 'Sex']).sum()['Survived'].unstack()\n",
    "print survivors_per_sex_per_class\n",
    "surv_per_sex_and_class_graph = survivors_per_sex_per_class.plot.bar()\n",
    "surv_per_sex_and_class_graph.set(title='Survivors per Sex within each Class',\n",
    "                                 ylabel='Frequency in number of passengers', xlabel='Class')\n",
    "surv_per_sex_and_class_graph.legend(title='Sex')\n",
    "surv_per_sex_and_class_graph.set_xticklabels([1, 2, 3], rotation=0)"
   ]
  },
  {
   "cell_type": "markdown",
   "metadata": {},
   "source": [
    "The above analysis first attempts to find Pearson's r to quantify the correlation between sex and survival. We first had to extract the survival and sex information from the original data and then change the values of the sex column to integer values so that the correlation function would work appropriately. There was no numerical output for the correlation between sex and survival so we continued to explore the data to see if we could visually infer a correlation. The first two graphs show the frequency and rate of survival per sex, respectively. Both show that there were more female survivors. Then the graph above took this a bit further and explored the differences in survival of each sex within each class and in each class more women survived than men. Also, the graph above strengthens our orignial findings between class and survival were most of the survivors were of first class, followed by lower class, and lastly middle class as this pattern is the same within women of each class. Surprisingly however, is that out of the men of each class more were lower class, winning over the upper class men by only two passengers. This does not imply that men of lower class were more likely to survive than men of upper class however, it was simply interesting to note that the general pattern does break when separating the survivors in each class by their sex."
   ]
  },
  {
   "cell_type": "markdown",
   "metadata": {},
   "source": [
    "## Exploring Class Differences"
   ]
  },
  {
   "cell_type": "code",
   "execution_count": 14,
   "metadata": {},
   "outputs": [
    {
     "data": {
      "text/html": [
       "<div>\n",
       "<style>\n",
       "    .dataframe thead tr:only-child th {\n",
       "        text-align: right;\n",
       "    }\n",
       "\n",
       "    .dataframe thead th {\n",
       "        text-align: left;\n",
       "    }\n",
       "\n",
       "    .dataframe tbody tr th {\n",
       "        vertical-align: top;\n",
       "    }\n",
       "</style>\n",
       "<table border=\"1\" class=\"dataframe\">\n",
       "  <thead>\n",
       "    <tr>\n",
       "      <th></th>\n",
       "      <th colspan=\"8\" halign=\"left\">SibSp</th>\n",
       "      <th colspan=\"8\" halign=\"left\">Parch</th>\n",
       "    </tr>\n",
       "    <tr>\n",
       "      <th></th>\n",
       "      <th>count</th>\n",
       "      <th>mean</th>\n",
       "      <th>std</th>\n",
       "      <th>min</th>\n",
       "      <th>25%</th>\n",
       "      <th>50%</th>\n",
       "      <th>75%</th>\n",
       "      <th>max</th>\n",
       "      <th>count</th>\n",
       "      <th>mean</th>\n",
       "      <th>std</th>\n",
       "      <th>min</th>\n",
       "      <th>25%</th>\n",
       "      <th>50%</th>\n",
       "      <th>75%</th>\n",
       "      <th>max</th>\n",
       "    </tr>\n",
       "    <tr>\n",
       "      <th>Pclass</th>\n",
       "      <th></th>\n",
       "      <th></th>\n",
       "      <th></th>\n",
       "      <th></th>\n",
       "      <th></th>\n",
       "      <th></th>\n",
       "      <th></th>\n",
       "      <th></th>\n",
       "      <th></th>\n",
       "      <th></th>\n",
       "      <th></th>\n",
       "      <th></th>\n",
       "      <th></th>\n",
       "      <th></th>\n",
       "      <th></th>\n",
       "      <th></th>\n",
       "    </tr>\n",
       "  </thead>\n",
       "  <tbody>\n",
       "    <tr>\n",
       "      <th>1</th>\n",
       "      <td>216.0</td>\n",
       "      <td>0.416667</td>\n",
       "      <td>0.611898</td>\n",
       "      <td>0.0</td>\n",
       "      <td>0.0</td>\n",
       "      <td>0.0</td>\n",
       "      <td>1.0</td>\n",
       "      <td>3.0</td>\n",
       "      <td>216.0</td>\n",
       "      <td>0.356481</td>\n",
       "      <td>0.693997</td>\n",
       "      <td>0.0</td>\n",
       "      <td>0.0</td>\n",
       "      <td>0.0</td>\n",
       "      <td>0.0</td>\n",
       "      <td>4.0</td>\n",
       "    </tr>\n",
       "    <tr>\n",
       "      <th>2</th>\n",
       "      <td>184.0</td>\n",
       "      <td>0.402174</td>\n",
       "      <td>0.601633</td>\n",
       "      <td>0.0</td>\n",
       "      <td>0.0</td>\n",
       "      <td>0.0</td>\n",
       "      <td>1.0</td>\n",
       "      <td>3.0</td>\n",
       "      <td>184.0</td>\n",
       "      <td>0.380435</td>\n",
       "      <td>0.690963</td>\n",
       "      <td>0.0</td>\n",
       "      <td>0.0</td>\n",
       "      <td>0.0</td>\n",
       "      <td>1.0</td>\n",
       "      <td>3.0</td>\n",
       "    </tr>\n",
       "    <tr>\n",
       "      <th>3</th>\n",
       "      <td>491.0</td>\n",
       "      <td>0.615071</td>\n",
       "      <td>1.374883</td>\n",
       "      <td>0.0</td>\n",
       "      <td>0.0</td>\n",
       "      <td>0.0</td>\n",
       "      <td>1.0</td>\n",
       "      <td>8.0</td>\n",
       "      <td>491.0</td>\n",
       "      <td>0.393075</td>\n",
       "      <td>0.888861</td>\n",
       "      <td>0.0</td>\n",
       "      <td>0.0</td>\n",
       "      <td>0.0</td>\n",
       "      <td>0.0</td>\n",
       "      <td>6.0</td>\n",
       "    </tr>\n",
       "  </tbody>\n",
       "</table>\n",
       "</div>"
      ],
      "text/plain": [
       "        SibSp                                               Parch            \\\n",
       "        count      mean       std  min  25%  50%  75%  max  count      mean   \n",
       "Pclass                                                                        \n",
       "1       216.0  0.416667  0.611898  0.0  0.0  0.0  1.0  3.0  216.0  0.356481   \n",
       "2       184.0  0.402174  0.601633  0.0  0.0  0.0  1.0  3.0  184.0  0.380435   \n",
       "3       491.0  0.615071  1.374883  0.0  0.0  0.0  1.0  8.0  491.0  0.393075   \n",
       "\n",
       "                                           \n",
       "             std  min  25%  50%  75%  max  \n",
       "Pclass                                     \n",
       "1       0.693997  0.0  0.0  0.0  0.0  4.0  \n",
       "2       0.690963  0.0  0.0  0.0  1.0  3.0  \n",
       "3       0.888861  0.0  0.0  0.0  0.0  6.0  "
      ]
     },
     "execution_count": 14,
     "metadata": {},
     "output_type": "execute_result"
    }
   ],
   "source": [
    "titanic_data.groupby('Pclass').describe()[['SibSp', 'Parch']]"
   ]
  },
  {
   "cell_type": "code",
   "execution_count": 15,
   "metadata": {},
   "outputs": [
    {
     "data": {
      "text/plain": [
       "[<matplotlib.axis.XTick at 0x116004110>,\n",
       " <matplotlib.axis.XTick at 0x116226310>,\n",
       " <matplotlib.axis.XTick at 0x116315dd0>]"
      ]
     },
     "execution_count": 15,
     "metadata": {},
     "output_type": "execute_result"
    },
    {
     "data": {
      "image/png": "[encoded data removed]",
      "text/plain": [
       "<matplotlib.figure.Figure at 0x1160a3510>"
      ]
     },
     "metadata": {},
     "output_type": "display_data"
    }
   ],
   "source": [
    "#Code to plot the number of siblings or spouses every passenger of each class has onboard the Titanic. The plot is\n",
    "#represented by a scatter plot in which the dot size grow if there are more passengers with a certain number of\n",
    "#siblings or spouses. Then there is some code to set some of the plot aesthetics. \n",
    "sibsp_grouping = titanic_data.groupby(['Pclass', 'SibSp'])\n",
    "sibling_spouse_graph = titanic_data.filter(['Pclass', 'SibSp']).plot(x='Pclass', y='SibSp', kind='scatter',\n",
    "                                                            s=sibsp_grouping.count()/sibsp_grouping.std())\n",
    "sibling_spouse_graph.set(title='Number of Siblings or Spouses per Passenger', xlabel='Class',\n",
    "                 ylabel='Number of Siblings or Spouse')\n",
    "sibling_spouse_graph.set_xticks([1, 2, 3])"
   ]
  },
  {
   "cell_type": "code",
   "execution_count": 20,
   "metadata": {},
   "outputs": [
    {
     "data": {
      "text/plain": [
       "[<matplotlib.axis.XTick at 0x1161d2950>,\n",
       " <matplotlib.axis.XTick at 0x11649e250>,\n",
       " <matplotlib.axis.XTick at 0x1168cbd10>]"
      ]
     },
     "execution_count": 20,
     "metadata": {},
     "output_type": "execute_result"
    },
    {
     "data": {
      "image/png": "[encoded data removed]",
      "text/plain": [
       "<matplotlib.figure.Figure at 0x116668ed0>"
      ]
     },
     "metadata": {},
     "output_type": "display_data"
    }
   ],
   "source": [
    "#Code to plot the number of parents or children every passenger of each class has onboard the Titanic. The plot is\n",
    "#represented by a scatter plot in which the dot size grow if there are more passengers with a certain number of\n",
    "#parents or children. Then there is some code to set some of the plot aesthetics. \n",
    "parch_grouping = titanic_data.groupby(['Pclass', 'Parch'])\n",
    "parent_child_graph = titanic_data.filter(['Pclass', 'Parch']).plot(x='Pclass', y='Parch', kind='scatter',\n",
    "                                                            s=parch_grouping.count()/parch_grouping.std())\n",
    "parent_child_graph.set(title='Number of Parents or Children per Passenger', xlabel='Class',\n",
    "                 ylabel='Number of Parents or Children')\n",
    "parent_child_graph.set_xticks([1, 2, 3])"
   ]
  },
  {
   "cell_type": "markdown",
   "metadata": {},
   "source": [
    "**Note:** The variables `sibsp_grouping` and `parch_grouping` are meant to simplify some repetitive code and the following code `s=sibsp_grouping.count()/sibsp_grouping.std()` and `s=parch_grouping.count()/parch_grouping.std()` are to resize the scatter plot dots so that their sizes represent the amount of passengers in each that have the same number of siblings or spouses and parents or children, respectively. The `std()` function was chosen over `mean()` and `median()` since the outcome fit better in the graph and was easier to visually interpret.  "
   ]
  },
  {
   "cell_type": "code",
   "execution_count": 17,
   "metadata": {},
   "outputs": [
    {
     "data": {
      "text/html": [
       "<div>\n",
       "<style>\n",
       "    .dataframe thead tr:only-child th {\n",
       "        text-align: right;\n",
       "    }\n",
       "\n",
       "    .dataframe thead th {\n",
       "        text-align: left;\n",
       "    }\n",
       "\n",
       "    .dataframe tbody tr th {\n",
       "        vertical-align: top;\n",
       "    }\n",
       "</style>\n",
       "<table border=\"1\" class=\"dataframe\">\n",
       "  <thead>\n",
       "    <tr style=\"text-align: right;\">\n",
       "      <th></th>\n",
       "      <th>count</th>\n",
       "      <th>mean</th>\n",
       "      <th>std</th>\n",
       "      <th>min</th>\n",
       "      <th>25%</th>\n",
       "      <th>50%</th>\n",
       "      <th>75%</th>\n",
       "      <th>max</th>\n",
       "    </tr>\n",
       "    <tr>\n",
       "      <th>Pclass</th>\n",
       "      <th></th>\n",
       "      <th></th>\n",
       "      <th></th>\n",
       "      <th></th>\n",
       "      <th></th>\n",
       "      <th></th>\n",
       "      <th></th>\n",
       "      <th></th>\n",
       "    </tr>\n",
       "  </thead>\n",
       "  <tbody>\n",
       "    <tr>\n",
       "      <th>1</th>\n",
       "      <td>216.0</td>\n",
       "      <td>84.154687</td>\n",
       "      <td>78.380373</td>\n",
       "      <td>0.0</td>\n",
       "      <td>30.92395</td>\n",
       "      <td>60.2875</td>\n",
       "      <td>93.5</td>\n",
       "      <td>512.3292</td>\n",
       "    </tr>\n",
       "    <tr>\n",
       "      <th>2</th>\n",
       "      <td>184.0</td>\n",
       "      <td>20.662183</td>\n",
       "      <td>13.417399</td>\n",
       "      <td>0.0</td>\n",
       "      <td>13.00000</td>\n",
       "      <td>14.2500</td>\n",
       "      <td>26.0</td>\n",
       "      <td>73.5000</td>\n",
       "    </tr>\n",
       "    <tr>\n",
       "      <th>3</th>\n",
       "      <td>491.0</td>\n",
       "      <td>13.675550</td>\n",
       "      <td>11.778142</td>\n",
       "      <td>0.0</td>\n",
       "      <td>7.75000</td>\n",
       "      <td>8.0500</td>\n",
       "      <td>15.5</td>\n",
       "      <td>69.5500</td>\n",
       "    </tr>\n",
       "  </tbody>\n",
       "</table>\n",
       "</div>"
      ],
      "text/plain": [
       "        count       mean        std  min       25%      50%   75%       max\n",
       "Pclass                                                                     \n",
       "1       216.0  84.154687  78.380373  0.0  30.92395  60.2875  93.5  512.3292\n",
       "2       184.0  20.662183  13.417399  0.0  13.00000  14.2500  26.0   73.5000\n",
       "3       491.0  13.675550  11.778142  0.0   7.75000   8.0500  15.5   69.5500"
      ]
     },
     "execution_count": 17,
     "metadata": {},
     "output_type": "execute_result"
    }
   ],
   "source": [
    "titanic_data.groupby('Pclass').describe()['Fare']"
   ]
  },
  {
   "cell_type": "markdown",
   "metadata": {},
   "source": [
    "The two code blocks above give us data describing family sizes per class as well as fare information per class, respectively. Some of the more interesting values and things to note are first that lower class families tended to be larger than the middle and upper class families and the maximum fare value was $512.33. "
   ]
  },
  {
   "cell_type": "code",
   "execution_count": 18,
   "metadata": {},
   "outputs": [
    {
     "name": "stdout",
     "output_type": "stream",
     "text": [
      "Pclass      1    2    3\n",
      "Embarked               \n",
      "C          85   17   66\n",
      "Q           2    3   72\n",
      "S         127  164  353\n"
     ]
    },
    {
     "data": {
      "text/plain": [
       "[<matplotlib.text.Text at 0x1164ed550>,\n",
       " <matplotlib.text.Text at 0x1164f6c10>,\n",
       " <matplotlib.text.Text at 0x116629290>]"
      ]
     },
     "execution_count": 18,
     "metadata": {},
     "output_type": "execute_result"
    },
    {
     "data": {
      "image/png": "[encoded data removed]",
      "text/plain": [
       "<matplotlib.figure.Figure at 0x1161db5d0>"
      ]
     },
     "metadata": {},
     "output_type": "display_data"
    }
   ],
   "source": [
    "#Code to count the number of passengers that borded the Titanic at each of the three ports, separated by class.\n",
    "#Then graphed this information in the form of a bar graph.\n",
    "class_embarkment_counts = titanic_data.groupby(['Embarked', 'Pclass']).size().unstack()\n",
    "print class_embarkment_counts\n",
    "embarkment_graph = class_embarkment_counts.plot.bar()\n",
    "embarkment_graph.set(title='Number of Passengers at each Port per Class',\n",
    "                     ylabel='Frequency (in number of passengers)', xlabel='Port')\n",
    "embarkment_graph.legend(title='Class')\n",
    "embarkment_graph.set_xticklabels(['Cherbourg', 'Queenstown', 'Southampton'], rotation=0)"
   ]
  },
  {
   "cell_type": "markdown",
   "metadata": {},
   "source": [
    "The above exploration was an effort to see if we could discover which city was more affluent. It is clear that the most common city of embarkment for all classes was Southhampton. This suggests that Southampton was most likely the biggest city from which the Titanic took port though we cannot say that Southampton was more affluent than any of the other cities since it did not show more upper class passengers. In contrast to this, Queensport did have the most lower class passengers bording with significantly smaller middle and lower class passengers so maybe Queenstown was the poorer city out of the three.  "
   ]
  },
  {
   "cell_type": "markdown",
   "metadata": {},
   "source": [
    "## Conclusions"
   ]
  },
  {
   "cell_type": "markdown",
   "metadata": {},
   "source": [
    "   In conclusion, we found that you were more likely to survive the Titanic shipwreck if you were a woman of upper class stature. We found that out of the Titanic survivors, most were upper class passengers then followed by lower class passengers. However, lower class passengers had the smallest proportion of survivors since they constituted the largest proportion of Titanic passengers. Furthermore, we found that out of all survivors most were women. This fact continues when separating the number of male and female survivors in each class. Furthermore, the only outlier in the trend of more upper class passengers surviving than lower class passengers occurs when you separate how many men of each class survived. In this case, lower class men are on top, beating out upper class men by only two passengers. This does not imply that lower class men were more like to survive than upper class men however, since this pattern makes sense as there were more lower class passengers in general. Calculating Pearson's r also showed that class had the highest correlation to survival than any other characteristic with a value of -0.34. \n",
    "    \n",
    "   I wanted to calculate Pearson's r for a combination of different values with survival to numerically see how different passenger characteristics correlated to their survival. However, I was limited to characteristics that had numerical values or those that I could logically transform into a numerical value such as a passenger's sex where I changed the value of being male to 0 and female to 1, then found the correlation. This attempt was not succesful however as it did not produce a numerical value describing the correlation of sex with survival and so instead we had to infer the correlation by looking at various graphs. Out of these correlation values we got that Pearson's r between survival and age was 0.01, a value that is less than the previous value we found comparing class and survival so age is not as greatly correlated to survival as class was. Age did have some values that were originally missing, which I converted into values equal to -0.0. This probably had some effect on Pearson's r, making it closer to 0 than it should be.\n",
    "   \n",
    "   I would like to note that I also altered the missing values describing the passenger cabins but since I did not do any exploration with those values they have no effect on the overall conclusions of this analysis.\n",
    "\n",
    "   Finally ending this on some interesting findings, we found that Southhampton was the most common embarkment city not just in general but among all class types so it was probably the largest city out of the three cities the Titanic borded passengers. Queenstown borded the largest and least amount of lower and upper and middle class passengers, respectively, so it was probably the poorest city. The most expensive fare was $512.33, obviously paid by an upper class passenger, and in general lower class passengers had the largest families on the Titanic with a maximum of 6 siblings and spouses and 8 parents and children. "
   ]
  }
 ],
 "metadata": {
  "kernelspec": {
   "display_name": "Python [conda root]",
   "language": "python",
   "name": "conda-root-py"
  },
  "language_info": {
   "codemirror_mode": {
    "name": "ipython",
    "version": 2
   },
   "file_extension": ".py",
   "mimetype": "text/x-python",
   "name": "python",
   "nbconvert_exporter": "python",
   "pygments_lexer": "ipython2",
   "version": "2.7.13"
  }
 },
 "nbformat": 4,
 "nbformat_minor": 2
}
